{
 "cells": [
  {
   "cell_type": "code",
   "execution_count": 1,
   "metadata": {},
   "outputs": [],
   "source": [
    "import numpy as np\n",
    "import cv2\n",
    "import os\n",
    "import requests\n",
    "# from bs4 import BeautifulSoup\n",
    "from tqdm import tqdm_notebook\n",
    "from os import listdir"
   ]
  },
  {
   "cell_type": "code",
   "execution_count": 2,
   "metadata": {},
   "outputs": [],
   "source": [
    "os.chdir('cloth')\n"
   ]
  },
  {
   "cell_type": "code",
   "execution_count": 27,
   "metadata": {},
   "outputs": [
    {
     "name": "stdout",
     "output_type": "stream",
     "text": [
      "<class 'numpy.ndarray'>\n"
     ]
    }
   ],
   "source": [
    "img = cv2.imread('original1.jpg')\n",
    "text = \"11-1060727\"\n",
    "print(type(img))\n",
    "img = cv2.resize(img, (400,160), interpolation=cv2.INTER_CUBIC)\n",
    "cv2.putText(img, text, (0, 160), cv2.FONT_HERSHEY_DUPLEX,\n",
    "  2, (0, 255, 255), 3, cv2.LINE_AA)\n",
    "# img = cv2.resize(img, (100,100), interpolation=cv2.INTER_CUBIC)\n",
    "cv2.imshow('original', img)\n",
    "cv2.waitKey(0)\n",
    "cv2.destroyAllWindows()"
   ]
  },
  {
   "cell_type": "code",
   "execution_count": null,
   "metadata": {},
   "outputs": [],
   "source": [
    "img = cv2.imread('11-1060727.jpg', cv2.IMREAD_GRAYSCALE)\n",
    "text = \"1060727\"\n",
    "print(type(img))\n",
    "img = cv2.resize(img, (400, 400), interpolation=cv2.INTER_CUBIC)\n",
    "print(img.shape)\n",
    "cv2.putText(img, text, (50, 350), cv2.FONT_HERSHEY_DUPLEX,\n",
    "  2.5, (0, 255, 255), 3, cv2.LINE_AA)\n",
    "img = cv2.resize(img, (100,100), interpolation=cv2.INTER_CUBIC)\n",
    "cv2.imshow('original', img)\n",
    "cv2.waitKey(0)\n",
    "cv2.destroyAllWindows()"
   ]
  },
  {
   "cell_type": "code",
   "execution_count": 32,
   "metadata": {},
   "outputs": [
    {
     "name": "stdout",
     "output_type": "stream",
     "text": [
      "(400, 400, 3)\n"
     ]
    }
   ],
   "source": [
    "img = np.zeros((400, 400, 3), np.uint8)\n",
    "img.fill(90)\n",
    "print(img.shape)\n",
    "# 文字\n",
    "text = '11-1060727'\n",
    "\n",
    "# 使用各種字體\n",
    "cv2.putText(img, text, (10, 40), cv2.FONT_HERSHEY_SIMPLEX,\n",
    "  1, (0, 255, 255), 1, cv2.LINE_AA)\n",
    "\n",
    "cv2.putText(img, text, (10, 80), cv2.FONT_HERSHEY_PLAIN,\n",
    "  1, (0, 255, 255), 1, cv2.LINE_AA)\n",
    "\n",
    "cv2.putText(img, text, (10, 120), cv2.FONT_HERSHEY_DUPLEX,\n",
    "  1, (0, 255, 255), 1, cv2.LINE_AA)\n",
    "\n",
    "cv2.putText(img, text, (10, 160), cv2.FONT_HERSHEY_COMPLEX,\n",
    "  1, (0, 255, 255), 1, cv2.LINE_AA)\n",
    "\n",
    "cv2.putText(img, text, (10, 200), cv2.FONT_HERSHEY_TRIPLEX,\n",
    "  1, (0, 255, 255), 1, cv2.LINE_AA)\n",
    "\n",
    "cv2.putText(img, text, (10, 240), cv2.FONT_HERSHEY_COMPLEX_SMALL,\n",
    "  1, (0, 255, 255), 1, cv2.LINE_AA)\n",
    "\n",
    "cv2.putText(img, text, (10, 280), cv2.FONT_HERSHEY_SCRIPT_SIMPLEX,\n",
    "  1, (0, 255, 255), 1, cv2.LINE_AA)\n",
    "\n",
    "cv2.putText(img, text, (10, 320), cv2.FONT_HERSHEY_SCRIPT_COMPLEX,\n",
    "  1, (0, 255, 255), 1, cv2.LINE_AA)\n",
    "\n",
    "cv2.imshow('My Image', img)\n",
    "cv2.waitKey(0)\n",
    "cv2.destroyAllWindows()"
   ]
  },
  {
   "cell_type": "code",
   "execution_count": 4,
   "metadata": {},
   "outputs": [
    {
     "data": {
      "application/vnd.jupyter.widget-view+json": {
       "model_id": "c6350c481e8c44609a5415896f0777a5",
       "version_major": 2,
       "version_minor": 0
      },
      "text/plain": [
       "HBox(children=(IntProgress(value=0, description='o1', max=5, style=ProgressStyle(description_width='initial'))…"
      ]
     },
     "metadata": {},
     "output_type": "display_data"
    },
    {
     "name": "stdout",
     "output_type": "stream",
     "text": [
      "\n"
     ]
    }
   ],
   "source": []
  },
  {
   "cell_type": "code",
   "execution_count": 4,
   "metadata": {},
   "outputs": [
    {
     "data": {
      "application/vnd.jupyter.widget-view+json": {
       "model_id": "1b299949db6142289574a7f01468b521",
       "version_major": 2,
       "version_minor": 0
      },
      "text/plain": [
       "HBox(children=(IntProgress(value=0, description='o1', max=10000, style=ProgressStyle(description_width='initia…"
      ]
     },
     "metadata": {},
     "output_type": "display_data"
    },
    {
     "name": "stdout",
     "output_type": "stream",
     "text": [
      "\n"
     ]
    },
    {
     "data": {
      "application/vnd.jupyter.widget-view+json": {
       "model_id": "6ca2751c471c4881989bbf0be2271e4c",
       "version_major": 2,
       "version_minor": 0
      },
      "text/plain": [
       "HBox(children=(IntProgress(value=0, description='o1', max=10000, style=ProgressStyle(description_width='initia…"
      ]
     },
     "metadata": {},
     "output_type": "display_data"
    },
    {
     "name": "stdout",
     "output_type": "stream",
     "text": [
      "\n"
     ]
    },
    {
     "data": {
      "application/vnd.jupyter.widget-view+json": {
       "model_id": "9202ad070d34424b98d53d2ecc123d6f",
       "version_major": 2,
       "version_minor": 0
      },
      "text/plain": [
       "HBox(children=(IntProgress(value=0, description='o1', max=10000, style=ProgressStyle(description_width='initia…"
      ]
     },
     "metadata": {},
     "output_type": "display_data"
    },
    {
     "name": "stdout",
     "output_type": "stream",
     "text": [
      "\n"
     ]
    }
   ],
   "source": [
    "for _ in tqdm_notebook(range(10000), desc='o1'):\n",
    "    img = cv2.imread('original1.jpg')\n",
    "    text = ''\n",
    "    text = str(np.random.randint(0,9999999))\n",
    "    text = text.zfill(7)\n",
    "    ra = np.random.randint(0,2)\n",
    "    if ra:\n",
    "        text = str(np.random.randint(0,99)).zfill(2) + '-'+ text\n",
    "        x = 0\n",
    "    else:\n",
    "        x = np.random.randint(0,50)\n",
    "    img = cv2.resize(img, (400, 160), interpolation=cv2.INTER_CUBIC)\n",
    "    size = 0\n",
    "    while size == 0 or size >= 2.1:\n",
    "        size = 1+np.random.random(1)\n",
    "    y = np.random.randint(60,160)\n",
    "    line_size = 3\n",
    "    cv2.putText(img, text, (x, y), cv2.FONT_HERSHEY_DUPLEX,\n",
    "      size, (0, 255, 255), 2, cv2.LINE_AA)\n",
    "    scrip = '_'.join(['',str(size),str(x),str(y),str(line_size)])\n",
    "#     img = cv2.resize(img, (100, 100), interpolation=cv2.INTER_CUBIC)\n",
    "    cv2.imwrite(text+scrip+'.jpg', img)\n",
    "for _ in tqdm_notebook(range(10000), desc='o1'):\n",
    "    img = cv2.imread('original2.jpg')\n",
    "    text = ''\n",
    "    text = str(np.random.randint(0,9999999))\n",
    "    text = text.zfill(7)\n",
    "    ra = np.random.randint(0,2)\n",
    "    if ra:\n",
    "        text = str(np.random.randint(0,99)).zfill(2) + '-'+ text\n",
    "        x = 0\n",
    "    else:\n",
    "        x = np.random.randint(0,50)\n",
    "    img = cv2.resize(img, (400, 160), interpolation=cv2.INTER_CUBIC)\n",
    "    size = 0\n",
    "    while size == 0 or size >= 2.1:\n",
    "        size = 1+np.random.random(1)\n",
    "    y = np.random.randint(60,160)\n",
    "    line_size = 3\n",
    "    cv2.putText(img, text, (x, y), cv2.FONT_HERSHEY_DUPLEX,\n",
    "      size, (0, 255, 255), 2, cv2.LINE_AA)\n",
    "    scrip = '_'.join(['',str(size),str(x),str(y),str(line_size)])\n",
    "#     img = cv2.resize(img, (100, 100), interpolation=cv2.INTER_CUBIC)\n",
    "    cv2.imwrite(text+scrip+'.jpg', img)\n",
    "for _ in tqdm_notebook(range(10000), desc='o1'):\n",
    "    img = cv2.imread('original3.jpg')\n",
    "    text = ''\n",
    "    text = str(np.random.randint(0,9999999))\n",
    "    text = text.zfill(7)\n",
    "    ra = np.random.randint(0,2)\n",
    "    if ra:\n",
    "        text = str(np.random.randint(0,99)).zfill(2) + '-'+ text\n",
    "        x = 0\n",
    "    else:\n",
    "        x = np.random.randint(0,50)\n",
    "    img = cv2.resize(img, (400, 160), interpolation=cv2.INTER_CUBIC)\n",
    "    size = 0\n",
    "    while size == 0 or size >= 2.1:\n",
    "        size = 1+np.random.random(1)\n",
    "    y = np.random.randint(60,160)\n",
    "    line_size = 3\n",
    "    cv2.putText(img, text, (x, y), cv2.FONT_HERSHEY_DUPLEX,\n",
    "      size, (0, 255, 255), 2, cv2.LINE_AA)\n",
    "    scrip = '_'.join(['',str(size),str(x),str(y),str(line_size)])\n",
    "#     img = cv2.resize(img, (100, 100), interpolation=cv2.INTER_CUBIC)\n",
    "    cv2.imwrite(text+scrip+'.jpg', img)"
   ]
  },
  {
   "cell_type": "code",
   "execution_count": null,
   "metadata": {},
   "outputs": [],
   "source": []
  }
 ],
 "metadata": {
  "kernelspec": {
   "display_name": "Python 3",
   "language": "python",
   "name": "python3"
  },
  "language_info": {
   "codemirror_mode": {
    "name": "ipython",
    "version": 3
   },
   "file_extension": ".py",
   "mimetype": "text/x-python",
   "name": "python",
   "nbconvert_exporter": "python",
   "pygments_lexer": "ipython3",
   "version": "3.5.2"
  }
 },
 "nbformat": 4,
 "nbformat_minor": 2
}
